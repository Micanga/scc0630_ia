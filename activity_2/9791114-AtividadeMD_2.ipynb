{
 "cells": [
  {
   "cell_type": "markdown",
   "metadata": {},
   "source": [
    "# ACTIVITY 2 - DATA MINING (Wine Dataset)\n",
    "# Author: Matheus Aparecido do Carmo Alves - 9791114"
   ]
  },
  {
   "cell_type": "markdown",
   "metadata": {},
   "source": [
    "## 1. KNN Classifier Implementation"
   ]
  },
  {
   "cell_type": "markdown",
   "metadata": {},
   "source": [
    "Hi! In this first section, we are going to implement a KNN Classifier using the Python Scikit and the Wine Dataset.\n",
    "\n",
    "So, the first step is to import the python packages:"
   ]
  },
  {
   "cell_type": "code",
   "execution_count": 1,
   "metadata": {},
   "outputs": [],
   "source": [
    "# Importing the packages\n",
    "import numpy as np\n",
    "import matplotlib.pyplot as plt\n",
    "\n",
    "from sklearn.datasets import load_wine\n",
    "from sklearn.metrics import confusion_matrix\n",
    "from sklearn.model_selection import train_test_split\n",
    "from sklearn.neighbors import KNeighborsClassifier\n",
    "from sklearn.utils.multiclass import unique_labels\n",
    "\n",
    "import pandas as pd"
   ]
  },
  {
   "cell_type": "markdown",
   "metadata": {},
   "source": [
    "After import, we need to get the Wine dataset, following the code line bellow \\[[2](#cell2)\\].\n",
    "\n",
    "The Wine dataset contains 13 attributes:\n",
    "1. Alcohol (class identifier 1-3)\n",
    "2. Malic acid\n",
    "3. Ash\n",
    "4. Alcalinity of ash  \n",
    "5. Magnesium\n",
    "6. Total phenols\n",
    "7. Flavanoids\n",
    "8. Nonflavanoid phenols\n",
    "9. Proanthocyanins\n",
    "10. Color intensity\n",
    "11. Hue\n",
    "12. OD280/OD315 of diluted wines\n",
    "13. Proline   \n",
    "\n",
    "<a id=\"cell2\"></a>"
   ]
  },
  {
   "cell_type": "code",
   "execution_count": 2,
   "metadata": {},
   "outputs": [],
   "source": [
    "# 1. Getting the Wine data \n",
    "wine = load_wine()"
   ]
  },
  {
   "cell_type": "markdown",
   "metadata": {},
   "source": [
    "Now, we need to split the data set into a random train and test subsets as in \\[[3](#cell3)\\].\n",
    "\n",
    "Note:\n",
    "\n",
    "- Train set = 75% of available data; Test set = 25% of available data\n",
    "- The sets are assembled randomly\n",
    "\n",
    "<a id=\"cell3\"></a>"
   ]
  },
  {
   "cell_type": "code",
   "execution_count": 3,
   "metadata": {},
   "outputs": [
    {
     "name": "stdout",
     "output_type": "stream",
     "text": [
      "('Train set size:', 133)\n",
      "('Test set size:', 45, '\\n')\n"
     ]
    }
   ],
   "source": [
    "# 2. Splitting the data set into random train and test subsets\n",
    "train_set, test_set, train_class, test_class = \\\n",
    "\ttrain_test_split(wine['data'],wine['target'],train_size=0.75,test_size=0.25)\n",
    "print('Train set size:',len(train_set))\n",
    "print('Test set size:',len(test_set),'\\n')"
   ]
  },
  {
   "cell_type": "markdown",
   "metadata": {},
   "source": [
    "After split, we will use the set of trains and train classes to build our KNN Classifier as in \\[[4](#cell4)\\].\n",
    "\n",
    "<a id=\"cell4\"></a>"
   ]
  },
  {
   "cell_type": "code",
   "execution_count": 4,
   "metadata": {},
   "outputs": [
    {
     "data": {
      "text/plain": [
       "KNeighborsClassifier(algorithm='auto', leaf_size=30, metric='minkowski',\n",
       "           metric_params=None, n_jobs=None, n_neighbors=5, p=2,\n",
       "           weights='distance')"
      ]
     },
     "execution_count": 4,
     "metadata": {},
     "output_type": "execute_result"
    }
   ],
   "source": [
    "# 3. Classification steps\n",
    "# a. building the classification KNN space\n",
    "knn_classifier = KNeighborsClassifier(n_neighbors=5,weights='distance')\n",
    "knn_classifier.fit(train_set, train_class)"
   ]
  },
  {
   "cell_type": "markdown",
   "metadata": {},
   "source": [
    "And, with the trained KNN model, we will classify (predict) the classes of the test set in \\[[5](#cell5)\\].\n",
    "\n",
    "<a id=\"cell5\"></a>"
   ]
  },
  {
   "cell_type": "code",
   "execution_count": 5,
   "metadata": {},
   "outputs": [],
   "source": [
    "# b. classifing the test set (predicting the test set classes)\n",
    "predict_class = knn_classifier.predict(test_set)"
   ]
  },
  {
   "cell_type": "markdown",
   "metadata": {},
   "source": [
    "This last step represents the classification step.\n",
    "\n",
    "To show the results, we will build and plot a confusion matrix, following the steps:"
   ]
  },
  {
   "cell_type": "markdown",
   "metadata": {},
   "source": [
    "1- Calculating the confusion matrix; \n",
    "\n",
    "<a id=\"cell6\"></a>"
   ]
  },
  {
   "cell_type": "code",
   "execution_count": 6,
   "metadata": {},
   "outputs": [
    {
     "name": "stdout",
     "output_type": "stream",
     "text": [
      "Unnormalized Confusion Matrix\n",
      "[[13  0  1]\n",
      " [ 4 11  5]\n",
      " [ 0  5  6]]\n"
     ]
    }
   ],
   "source": [
    "# c. calculating the confusion matrix\n",
    "result = confusion_matrix(test_class,predict_class)\n",
    "print('Unnormalized Confusion Matrix')\n",
    "print(result)"
   ]
  },
  {
   "cell_type": "markdown",
   "metadata": {},
   "source": [
    "2- Normalizing the resulting confusion matrix;\n",
    "\n",
    "<a id=\"cell7\"></a>"
   ]
  },
  {
   "cell_type": "code",
   "execution_count": 7,
   "metadata": {},
   "outputs": [
    {
     "name": "stdout",
     "output_type": "stream",
     "text": [
      "Normalized Confusion Matrix\n",
      "[[0.92857143 0.         0.07142857]\n",
      " [0.2        0.55       0.25      ]\n",
      " [0.         0.45454545 0.54545455]]\n"
     ]
    }
   ],
   "source": [
    "# d. normalizing the confusion matrix\n",
    "result = result.astype('float') / result.sum(axis=1)[:, np.newaxis]\n",
    "print('Normalized Confusion Matrix')\n",
    "print(result)"
   ]
  },
  {
   "cell_type": "markdown",
   "metadata": {},
   "source": [
    "3- Getting the confusion matrix labels (classes);\n",
    "\n",
    "<a id=\"cell8\"></a>"
   ]
  },
  {
   "cell_type": "code",
   "execution_count": 8,
   "metadata": {},
   "outputs": [],
   "source": [
    "# e. getting the confusion matrix labels\n",
    "classes = wine.target_names[unique_labels(train_class, predict_class)]"
   ]
  },
  {
   "cell_type": "markdown",
   "metadata": {},
   "source": [
    "4- Plotting by Matplotlib.\n",
    "\n",
    "<a id=\"cell9\"></a>"
   ]
  },
  {
   "cell_type": "code",
   "execution_count": 9,
   "metadata": {},
   "outputs": [
    {
     "data": {
      "image/png": "[encoded data removed]",
      "text/plain": [
       "<Figure size 432x288 with 2 Axes>"
      ]
     },
     "metadata": {
      "needs_background": "light"
     },
     "output_type": "display_data"
    }
   ],
   "source": [
    "# 4. Plotting the results\n",
    "# a. configuring the plot\n",
    "fig, ax = plt.subplots()\n",
    "im = ax.imshow(result, interpolation='nearest', cmap=plt.cm.Blues)\n",
    "ax.figure.colorbar(im, ax=ax)\n",
    "ax.set(xticks=np.arange(result.shape[1]),yticks=np.arange(result.shape[0]),\\\n",
    "    xticklabels=wine.target_names, yticklabels=wine.target_names,\\\n",
    "    title='Confusion Matrix', ylabel='True class', xlabel='Predicted class')\n",
    "\n",
    "plt.setp(ax.get_xticklabels(), rotation=45, ha=\"right\", rotation_mode=\"anchor\")\n",
    "fmt = '.2f'\n",
    "thresh = result.max() / 2.\n",
    "for i in range(result.shape[0]):\n",
    "    for j in range(result.shape[1]):\n",
    "        ax.text(j, i, format(result[i, j], fmt),\\\n",
    "            ha=\"center\", va=\"center\",\\\n",
    "            color=\"white\" if result[i, j] > thresh else \"black\")\n",
    "fig.tight_layout()\n",
    "\n",
    "# b. plotting\n",
    "plt.show()"
   ]
  },
  {
   "cell_type": "markdown",
   "metadata": {},
   "source": [
    "## 2. Confusion Matrix Calculation "
   ]
  },
  {
   "cell_type": "markdown",
   "metadata": {},
   "source": [
    "In this section, we will show how to calculate the confusion matrix without the sklearn.metrics.confusion_matrix method."
   ]
  },
  {
   "cell_type": "markdown",
   "metadata": {},
   "source": [
    "Basically, the non-normalized confusion matrix can be calculated following the loop \\[[10](#cell10)\\].\n",
    "\n",
    "<a id=\"cell10\"></a>"
   ]
  },
  {
   "cell_type": "code",
   "execution_count": 10,
   "metadata": {},
   "outputs": [
    {
     "name": "stdout",
     "output_type": "stream",
     "text": [
      "[[13.  0.  1.]\n",
      " [ 4. 11.  5.]\n",
      " [ 0.  5.  6.]]\n"
     ]
    }
   ],
   "source": [
    "confusion_matrix = np.zeros((3,3))\n",
    "for i in range(0,3):\n",
    "    for j in range(len(predict_class)):\n",
    "        if(test_class[j] == i):\n",
    "            confusion_matrix[i,predict_class[j]] += 1\n",
    "print(confusion_matrix)"
   ]
  },
  {
   "cell_type": "markdown",
   "metadata": {},
   "source": [
    "As you can see, the result in this loop is the same that was presented in \\[[6](#cell6)\\]."
   ]
  },
  {
   "cell_type": "markdown",
   "metadata": {},
   "source": [
    "Furthermore, we can normalize this matrix following the loop in \\[[11](#cell11)\\]\n",
    "\n",
    "<a id=\"cell11\"></a>"
   ]
  },
  {
   "cell_type": "code",
   "execution_count": 11,
   "metadata": {},
   "outputs": [
    {
     "name": "stdout",
     "output_type": "stream",
     "text": [
      "[[0.92857143 0.         0.07142857]\n",
      " [0.2        0.55       0.25      ]\n",
      " [0.         0.45454545 0.54545455]]\n"
     ]
    }
   ],
   "source": [
    "for i in range(0,3):\n",
    "    norm = sum(confusion_matrix[i,]) \n",
    "    for j in range(0,3):\n",
    "        confusion_matrix[i,j] = confusion_matrix[i,j]/norm\n",
    "print(confusion_matrix)"
   ]
  },
  {
   "cell_type": "markdown",
   "metadata": {},
   "source": [
    "As you can see, the result in this loop is the same that was presented in \\[[7](#cell7)\\].\n",
    "\n",
    "Therefore, our proposal to calculate the confusion matrix is valid."
   ]
  },
  {
   "cell_type": "markdown",
   "metadata": {},
   "source": [
    "## 3. Why is the KNN Classifier Lazy?"
   ]
  },
  {
   "cell_type": "markdown",
   "metadata": {},
   "source": [
    "### a. What is a Lazy Learn Process?\n",
    "\n",
    "In machine learning, lazy learning is a learning method in which generalization of the training data is, in theory, delayed until a query is made to the system, as opposed to in eager learning, where the system tries to generalize the training data before receiving queries.\n",
    "\n",
    "So we can say the lazy classifiers are those that do not have a \"defined training phase\" - it attempts to generalize the training data set based on the available parameters (i.e., \"memorize\" the training data set parameters) instead of to learn a discriminating function that approximates the parameters which define each class of the training data."
   ]
  },
  {
   "cell_type": "markdown",
   "metadata": {},
   "source": [
    "### b. The KNN Classifier\n",
    "\n",
    "The KNN Classifier is denominated a lazy algorithm because it just creates a D-dimensional space (where D is the number of parameters studied in the \"training dataset\"), calculates the \"distance\" between the D-dimensional sets and the new data (in the \"testing dataset\") and the K nearest neighbours define the class of the current data.\n",
    "\n",
    "In other words, note that it does not \"learn\" or \"train\" the model. It is only a clusterisation of the given initial dataset to evaluate the new data by the proximity between it and the clusters.\n",
    "Therefore, a better evaluation (split) of the initial data set for the KNN Classifier results in a better classification (in our example).\n",
    "\n",
    "The advantages associated with this are:\n",
    "-  lazy learning methods approximate the target function locally (that is, the target function is approximated locally for each query to the system), so it is faster for scenarios with multiples queries;\n",
    "- lazy learning systems can simultaneously solve multiple problems and deal successfully with changes in the problem domain;\n",
    "- deal with a continually changing scenario (adding or removing data).\n",
    "\n"
   ]
  }
 ],
 "metadata": {
  "kernelspec": {
   "display_name": "Python 2",
   "language": "python",
   "name": "python2"
  },
  "language_info": {
   "codemirror_mode": {
    "name": "ipython",
    "version": 2
   },
   "file_extension": ".py",
   "mimetype": "text/x-python",
   "name": "python",
   "nbconvert_exporter": "python",
   "pygments_lexer": "ipython2",
   "version": "2.7.15rc1"
  }
 },
 "nbformat": 4,
 "nbformat_minor": 2
}
